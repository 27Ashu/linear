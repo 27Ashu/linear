{
  "nbformat": 4,
  "nbformat_minor": 0,
  "metadata": {
    "colab": {
      "name": "Salary_descrimination_assignment7",
      "provenance": [],
      "collapsed_sections": []
    },
    "kernelspec": {
      "name": "python3",
      "display_name": "Python 3"
    },
    "language_info": {
      "name": "python"
    }
  },
  "cells": [
    {
      "cell_type": "markdown",
      "metadata": {
        "id": "A10fxZwdQoUM"
      },
      "source": [
        "## Salary Discrimination\n",
        "\n",
        "The file `salary.txt` contains data for 52 tenure-track professors at a small Midwestern college. This data was used in legal proceedings in the 1980s about discrimination against women in salary.\n",
        "\n",
        "The data in the file, by column:\n",
        "\n",
        "1. Sex. 1 for female, 0 for male.\n",
        "2. Rank. 1 for assistant professor, 2 for associate professor, 3 for full professor.\n",
        "3. Year. Number of years in current rank.\n",
        "4. Degree. Highest degree. 1 for doctorate, 0 for master's.\n",
        "5. YSdeg. Years since highest degree was earned.\n",
        "6. Salary. Salary/year in dollars.\n",
        "\n",
        "### Tasks\n",
        "\n",
        "1. Find the linear regression equation for this data using columns 1-5 to column 6.\n",
        "2. Find the selection of columns with the best $R^2$ score.\n",
        "3. Report whether sex is a factor in salary."
      ]
    },
    {
      "cell_type": "code",
      "metadata": {
        "id": "yJ7-lbfdRTAV"
      },
      "source": [
        "#Initializing the required libraries\n",
        "import pandas as pd\n",
        "import matplotlib.pyplot as plt\n",
        "import numpy as np\n",
        "from sklearn import linear_model\n",
        "%matplotlib inline"
      ],
      "execution_count": null,
      "outputs": []
    },
    {
      "cell_type": "code",
      "metadata": {
        "id": "v0cv9KsJQTfL"
      },
      "source": [
        "#Reading the salary text file in to the dataframe\n",
        "salary_data = pd.read_fwf(\"salary.txt\", header=None, \n",
        "                 names=['Sex', 'Rank', 'Year', 'Degree', 'YSdeg', 'Salary'])"
      ],
      "execution_count": null,
      "outputs": []
    },
    {
      "cell_type": "code",
      "metadata": {
        "id": "7OF-E4DTRiDJ"
      },
      "source": [
        "#Dividing the given data into features and the target variable as Y i,e salary\n",
        "feature = ['Sex', 'Rank', 'Year', 'Degree', 'YSdeg']\n",
        "X = salary_data[feature]\n",
        "Y = salary_data.Salary"
      ],
      "execution_count": null,
      "outputs": []
    },
    {
      "cell_type": "code",
      "metadata": {
        "colab": {
          "base_uri": "https://localhost:8080/"
        },
        "id": "RvAGY6eFSQ0S",
        "outputId": "7bc2f05c-8eb9-42c5-98e2-fb94c90e7ac1"
      },
      "source": [
        "#initializing the linear regression model\n",
        "Salary_linreg = linear_model.LinearRegression()\n",
        "Salary_linreg.fit(X,Y)"
      ],
      "execution_count": null,
      "outputs": [
        {
          "output_type": "execute_result",
          "data": {
            "text/plain": [
              "LinearRegression()"
            ]
          },
          "metadata": {},
          "execution_count": 30
        }
      ]
    },
    {
      "cell_type": "code",
      "metadata": {
        "colab": {
          "base_uri": "https://localhost:8080/"
        },
        "id": "Z3BBlBfSSk2o",
        "outputId": "f748f409-1ef1-42cf-b00a-11af44eed178"
      },
      "source": [
        "#getting the feature and its co-efficients\n",
        "print('Features and its Coefficients')\n",
        "print(list(zip(feature, Salary_linreg.coef_)))"
      ],
      "execution_count": null,
      "outputs": [
        {
          "output_type": "stream",
          "name": "stdout",
          "text": [
            "Features and its Coefficients\n",
            "[('Sex', 1241.792499601427), ('Rank', 5586.1814495214385), ('Year', 482.85976782882153), ('Degree', -1331.6440634059095), ('YSdeg', -128.79057354486122)]\n"
          ]
        }
      ]
    },
    {
      "cell_type": "code",
      "metadata": {
        "colab": {
          "base_uri": "https://localhost:8080/"
        },
        "id": "cM3RE-_nS2BF",
        "outputId": "effe6a25-1f88-4542-e52c-b4f20c5997e2"
      },
      "source": [
        "#Finding the r-squared score\n",
        "print('r-squared: ', Salary_linreg.score(X,Y))"
      ],
      "execution_count": null,
      "outputs": [
        {
          "output_type": "stream",
          "name": "stdout",
          "text": [
            "r-squared:  0.8547180674410969\n"
          ]
        }
      ]
    },
    {
      "cell_type": "code",
      "metadata": {
        "colab": {
          "base_uri": "https://localhost:8080/",
          "height": 238
        },
        "id": "27mW5TvYTW-V",
        "outputId": "bce0082e-2d34-46ea-f1ae-84af1ec751c1"
      },
      "source": [
        "#lets check the correlation of the dataframe\n",
        "salary_data.corr()"
      ],
      "execution_count": null,
      "outputs": [
        {
          "output_type": "execute_result",
          "data": {
            "text/html": [
              "<div>\n",
              "<style scoped>\n",
              "    .dataframe tbody tr th:only-of-type {\n",
              "        vertical-align: middle;\n",
              "    }\n",
              "\n",
              "    .dataframe tbody tr th {\n",
              "        vertical-align: top;\n",
              "    }\n",
              "\n",
              "    .dataframe thead th {\n",
              "        text-align: right;\n",
              "    }\n",
              "</style>\n",
              "<table border=\"1\" class=\"dataframe\">\n",
              "  <thead>\n",
              "    <tr style=\"text-align: right;\">\n",
              "      <th></th>\n",
              "      <th>Sex</th>\n",
              "      <th>Rank</th>\n",
              "      <th>Year</th>\n",
              "      <th>Degree</th>\n",
              "      <th>YSdeg</th>\n",
              "      <th>Salary</th>\n",
              "    </tr>\n",
              "  </thead>\n",
              "  <tbody>\n",
              "    <tr>\n",
              "      <th>Sex</th>\n",
              "      <td>1.000000</td>\n",
              "      <td>-0.230411</td>\n",
              "      <td>-0.379404</td>\n",
              "      <td>0.077112</td>\n",
              "      <td>-0.088288</td>\n",
              "      <td>-0.252782</td>\n",
              "    </tr>\n",
              "    <tr>\n",
              "      <th>Rank</th>\n",
              "      <td>-0.230411</td>\n",
              "      <td>1.000000</td>\n",
              "      <td>0.507980</td>\n",
              "      <td>-0.014564</td>\n",
              "      <td>0.695724</td>\n",
              "      <td>0.867488</td>\n",
              "    </tr>\n",
              "    <tr>\n",
              "      <th>Year</th>\n",
              "      <td>-0.379404</td>\n",
              "      <td>0.507980</td>\n",
              "      <td>1.000000</td>\n",
              "      <td>-0.143377</td>\n",
              "      <td>0.638776</td>\n",
              "      <td>0.700669</td>\n",
              "    </tr>\n",
              "    <tr>\n",
              "      <th>Degree</th>\n",
              "      <td>0.077112</td>\n",
              "      <td>-0.014564</td>\n",
              "      <td>-0.143377</td>\n",
              "      <td>1.000000</td>\n",
              "      <td>-0.482836</td>\n",
              "      <td>-0.069726</td>\n",
              "    </tr>\n",
              "    <tr>\n",
              "      <th>YSdeg</th>\n",
              "      <td>-0.088288</td>\n",
              "      <td>0.695724</td>\n",
              "      <td>0.638776</td>\n",
              "      <td>-0.482836</td>\n",
              "      <td>1.000000</td>\n",
              "      <td>0.674854</td>\n",
              "    </tr>\n",
              "    <tr>\n",
              "      <th>Salary</th>\n",
              "      <td>-0.252782</td>\n",
              "      <td>0.867488</td>\n",
              "      <td>0.700669</td>\n",
              "      <td>-0.069726</td>\n",
              "      <td>0.674854</td>\n",
              "      <td>1.000000</td>\n",
              "    </tr>\n",
              "  </tbody>\n",
              "</table>\n",
              "</div>"
            ],
            "text/plain": [
              "             Sex      Rank      Year    Degree     YSdeg    Salary\n",
              "Sex     1.000000 -0.230411 -0.379404  0.077112 -0.088288 -0.252782\n",
              "Rank   -0.230411  1.000000  0.507980 -0.014564  0.695724  0.867488\n",
              "Year   -0.379404  0.507980  1.000000 -0.143377  0.638776  0.700669\n",
              "Degree  0.077112 -0.014564 -0.143377  1.000000 -0.482836 -0.069726\n",
              "YSdeg  -0.088288  0.695724  0.638776 -0.482836  1.000000  0.674854\n",
              "Salary -0.252782  0.867488  0.700669 -0.069726  0.674854  1.000000"
            ]
          },
          "metadata": {},
          "execution_count": 33
        }
      ]
    },
    {
      "cell_type": "code",
      "metadata": {
        "colab": {
          "base_uri": "https://localhost:8080/",
          "height": 612
        },
        "id": "oPGCSai4ThmI",
        "outputId": "34715df6-ea15-4ea8-88b0-31cc1f0052e9"
      },
      "source": [
        "#checking highly corelated data in the dataframe by using seborn library heatmap\n",
        "import seaborn as sns\n",
        "plt.figure(figsize=(10,10))\n",
        "sns.heatmap(salary_data.corr(),annot=True,cmap=\"coolwarm\",linewidths=1)"
      ],
      "execution_count": null,
      "outputs": [
        {
          "output_type": "execute_result",
          "data": {
            "text/plain": [
              "<matplotlib.axes._subplots.AxesSubplot at 0x7fbaca942050>"
            ]
          },
          "metadata": {},
          "execution_count": 34
        },
        {
          "output_type": "display_data",
          "data": {
            "image/png": "[encoded data removed]",
            "text/plain": [
              "<Figure size 720x720 with 2 Axes>"
            ]
          },
          "metadata": {
            "needs_background": "light"
          }
        }
      ]
    },
    {
      "cell_type": "markdown",
      "metadata": {
        "id": "YJctVWCMVGeP"
      },
      "source": [
        "By observing the heatmap sex is not corelated with the salary factor"
      ]
    }
  ]
}