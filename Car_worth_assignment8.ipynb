{
  "nbformat": 4,
  "nbformat_minor": 0,
  "metadata": {
    "colab": {
      "name": "Car_worth_assignment8.ipynb",
      "provenance": [],
      "collapsed_sections": []
    },
    "kernelspec": {
      "name": "python3",
      "display_name": "Python 3"
    },
    "language_info": {
      "name": "python"
    }
  },
  "cells": [
    {
      "cell_type": "code",
      "metadata": {
        "id": "ZgHaI7kroU4t"
      },
      "source": [
        "#initializing the required libraries\n",
        "import pandas as pd\n",
        "import matplotlib.pyplot as plt\n",
        "import numpy as np\n",
        "from sklearn import linear_model"
      ],
      "execution_count": 3,
      "outputs": []
    },
    {
      "cell_type": "markdown",
      "source": [
        "# How Much is Your Car Worth?\n",
        "\n",
        "Data about the retail price of 2005 General Motors cars can be found in `car_data.csv`.\n",
        "\n",
        "The columns are:\n",
        "\n",
        "1. Price: suggested retail price of the used 2005 GM car in excellent condition.\n",
        "2. Mileage: number of miles the car has been driven\n",
        "3. Make: manufacturer of the car such as Saturn, Pontiac, and Chevrolet\n",
        "4. Model: specific models for each car manufacturer such as Ion, Vibe, Cavalier\n",
        "5. Trim (of car): specific type of car model such as SE Sedan 4D, Quad Coupe 2D          \n",
        "6. Type: body type such as sedan, coupe, etc.      \n",
        "7. Cylinder: number of cylinders in the engine        \n",
        "8. Liter: a more specific measure of engine size     \n",
        "9. Doors: number of doors           \n",
        "10. Cruise: indicator variable representing whether the car has cruise control (1 = cruise)\n",
        "11. Sound: indicator variable representing whether the car has upgraded speakers (1 = upgraded)\n",
        "12. Leather: indicator variable representing whether the car has leather seats (1 = leather)\n",
        "\n"
      ],
      "metadata": {
        "id": "qt_5XyXivXT3"
      }
    },
    {
      "cell_type": "code",
      "metadata": {
        "colab": {
          "base_uri": "https://localhost:8080/",
          "height": 206
        },
        "id": "diAVEsP9pP7z",
        "outputId": "1b093457-bdf9-46be-9e78-3b71cf9ae2e6"
      },
      "source": [
        "#read the car_data csv file and display the first five data from the car_data file\n",
        "car_data = pd.read_csv(\"car_data.csv\")\n",
        "car_data.head()"
      ],
      "execution_count": 4,
      "outputs": [
        {
          "output_type": "execute_result",
          "data": {
            "text/html": [
              "<div>\n",
              "<style scoped>\n",
              "    .dataframe tbody tr th:only-of-type {\n",
              "        vertical-align: middle;\n",
              "    }\n",
              "\n",
              "    .dataframe tbody tr th {\n",
              "        vertical-align: top;\n",
              "    }\n",
              "\n",
              "    .dataframe thead th {\n",
              "        text-align: right;\n",
              "    }\n",
              "</style>\n",
              "<table border=\"1\" class=\"dataframe\">\n",
              "  <thead>\n",
              "    <tr style=\"text-align: right;\">\n",
              "      <th></th>\n",
              "      <th>Price</th>\n",
              "      <th>Mileage</th>\n",
              "      <th>Make</th>\n",
              "      <th>Model</th>\n",
              "      <th>Trim</th>\n",
              "      <th>Type</th>\n",
              "      <th>Cylinder</th>\n",
              "      <th>Liter</th>\n",
              "      <th>Doors</th>\n",
              "      <th>Cruise</th>\n",
              "      <th>Sound</th>\n",
              "      <th>Leather</th>\n",
              "    </tr>\n",
              "  </thead>\n",
              "  <tbody>\n",
              "    <tr>\n",
              "      <th>0</th>\n",
              "      <td>17314.103129</td>\n",
              "      <td>8221</td>\n",
              "      <td>Buick</td>\n",
              "      <td>Century</td>\n",
              "      <td>Sedan 4D</td>\n",
              "      <td>Sedan</td>\n",
              "      <td>6</td>\n",
              "      <td>3.1</td>\n",
              "      <td>4</td>\n",
              "      <td>1</td>\n",
              "      <td>1</td>\n",
              "      <td>1</td>\n",
              "    </tr>\n",
              "    <tr>\n",
              "      <th>1</th>\n",
              "      <td>17542.036083</td>\n",
              "      <td>9135</td>\n",
              "      <td>Buick</td>\n",
              "      <td>Century</td>\n",
              "      <td>Sedan 4D</td>\n",
              "      <td>Sedan</td>\n",
              "      <td>6</td>\n",
              "      <td>3.1</td>\n",
              "      <td>4</td>\n",
              "      <td>1</td>\n",
              "      <td>1</td>\n",
              "      <td>0</td>\n",
              "    </tr>\n",
              "    <tr>\n",
              "      <th>2</th>\n",
              "      <td>16218.847862</td>\n",
              "      <td>13196</td>\n",
              "      <td>Buick</td>\n",
              "      <td>Century</td>\n",
              "      <td>Sedan 4D</td>\n",
              "      <td>Sedan</td>\n",
              "      <td>6</td>\n",
              "      <td>3.1</td>\n",
              "      <td>4</td>\n",
              "      <td>1</td>\n",
              "      <td>1</td>\n",
              "      <td>0</td>\n",
              "    </tr>\n",
              "    <tr>\n",
              "      <th>3</th>\n",
              "      <td>16336.913140</td>\n",
              "      <td>16342</td>\n",
              "      <td>Buick</td>\n",
              "      <td>Century</td>\n",
              "      <td>Sedan 4D</td>\n",
              "      <td>Sedan</td>\n",
              "      <td>6</td>\n",
              "      <td>3.1</td>\n",
              "      <td>4</td>\n",
              "      <td>1</td>\n",
              "      <td>0</td>\n",
              "      <td>0</td>\n",
              "    </tr>\n",
              "    <tr>\n",
              "      <th>4</th>\n",
              "      <td>16339.170324</td>\n",
              "      <td>19832</td>\n",
              "      <td>Buick</td>\n",
              "      <td>Century</td>\n",
              "      <td>Sedan 4D</td>\n",
              "      <td>Sedan</td>\n",
              "      <td>6</td>\n",
              "      <td>3.1</td>\n",
              "      <td>4</td>\n",
              "      <td>1</td>\n",
              "      <td>0</td>\n",
              "      <td>1</td>\n",
              "    </tr>\n",
              "  </tbody>\n",
              "</table>\n",
              "</div>"
            ],
            "text/plain": [
              "          Price  Mileage   Make    Model  ... Doors Cruise  Sound  Leather\n",
              "0  17314.103129     8221  Buick  Century  ...     4      1      1        1\n",
              "1  17542.036083     9135  Buick  Century  ...     4      1      1        0\n",
              "2  16218.847862    13196  Buick  Century  ...     4      1      1        0\n",
              "3  16336.913140    16342  Buick  Century  ...     4      1      0        0\n",
              "4  16339.170324    19832  Buick  Century  ...     4      1      0        1\n",
              "\n",
              "[5 rows x 12 columns]"
            ]
          },
          "metadata": {},
          "execution_count": 4
        }
      ]
    },
    {
      "cell_type": "code",
      "metadata": {
        "id": "Tmd4N4UtpyfV",
        "colab": {
          "base_uri": "https://localhost:8080/"
        },
        "outputId": "90e9a1fb-2510-4ba7-98d4-6ee22b5a569c"
      },
      "source": [
        "#Checking the columns with null values\n",
        "car_data.isnull().sum()"
      ],
      "execution_count": 5,
      "outputs": [
        {
          "output_type": "execute_result",
          "data": {
            "text/plain": [
              "Price       0\n",
              "Mileage     0\n",
              "Make        0\n",
              "Model       0\n",
              "Trim        0\n",
              "Type        0\n",
              "Cylinder    0\n",
              "Liter       0\n",
              "Doors       0\n",
              "Cruise      0\n",
              "Sound       0\n",
              "Leather     0\n",
              "dtype: int64"
            ]
          },
          "metadata": {},
          "execution_count": 5
        }
      ]
    },
    {
      "cell_type": "code",
      "metadata": {
        "colab": {
          "base_uri": "https://localhost:8080/",
          "height": 295
        },
        "id": "HPlEfJSbe3NQ",
        "outputId": "b9979f49-6703-4e67-98d1-d5cc23fe116d"
      },
      "source": [
        "#plotting the graph before predicting to check the linearity\n",
        "car_data.plot(x='Mileage', y='Price', style='o')\n",
        "plt.title('Mileage vs Price')\n",
        "plt.xlabel('Mileage')\n",
        "plt.ylabel('Price')\n",
        "plt.show()"
      ],
      "execution_count": 6,
      "outputs": [
        {
          "output_type": "display_data",
          "data": {
            "image/png": "[encoded data removed]",
            "text/plain": [
              "<Figure size 432x288 with 1 Axes>"
            ]
          },
          "metadata": {
            "needs_background": "light"
          }
        }
      ]
    },
    {
      "cell_type": "markdown",
      "source": [
        "## Tasks, Part 1\n",
        "\n",
        "1. Find the linear regression equation for mileage vs price.\n",
        "2. Chart the original data and the equation on the chart.\n",
        "3. Find the equation's $R^2$ score (use the `.score` method) to determine whether the\n",
        "equation is a good fit for this data. (0.8 and greater is considered a strong correlation.)"
      ],
      "metadata": {
        "id": "l1fd0hKovmUp"
      }
    },
    {
      "cell_type": "code",
      "metadata": {
        "id": "ULiP5DvacGOB"
      },
      "source": [
        "#PART 1\n",
        "#Find the linear regression equation for mileage vs price.\n",
        "X = car_data[[\"Mileage\"]]\n",
        "y = car_data[[\"Price\"]]"
      ],
      "execution_count": 7,
      "outputs": []
    },
    {
      "cell_type": "code",
      "metadata": {
        "colab": {
          "base_uri": "https://localhost:8080/"
        },
        "id": "reojvY-udgcs",
        "outputId": "d313b00c-13f4-4ce5-90e9-82611ca0a142"
      },
      "source": [
        "#Initialize the linear regression model and finding the intercept, coeff and r-squared score\n",
        "Regressor = linear_model.LinearRegression()\n",
        "Regressor.fit(X,y)\n",
        "print('intercept:', Regressor.intercept_)\n",
        "print('coefficients:', Regressor.coef_)\n",
        "print('r-squared:', Regressor.score(X, y))"
      ],
      "execution_count": 8,
      "outputs": [
        {
          "output_type": "stream",
          "name": "stdout",
          "text": [
            "intercept: [24764.55900606]\n",
            "coefficients: [[-0.1725205]]\n",
            "r-squared: 0.02046344732348926\n"
          ]
        }
      ]
    },
    {
      "cell_type": "markdown",
      "metadata": {
        "id": "d1rpOOPagYnc"
      },
      "source": [
        "By observing the r-squared valued there is no high correlation between the price and the mileage i,e 0.8 and above is considered as high correaltion and we got 0.0204 "
      ]
    },
    {
      "cell_type": "code",
      "metadata": {
        "colab": {
          "base_uri": "https://localhost:8080/",
          "height": 312
        },
        "id": "p6nqE5cXfRH3",
        "outputId": "c3fd724b-d03a-4551-dc7f-eff5fddadab1"
      },
      "source": [
        "#Chart the original data and the equation on the chart\n",
        "plt.scatter(X, y, color='g')\n",
        "plt.plot(X, Regressor.predict(X))\n",
        "plt.xlabel('Mileage')\n",
        "plt.ylabel('Price')\n",
        "plt.title('Mileage vs Price')\n"
      ],
      "execution_count": 9,
      "outputs": [
        {
          "output_type": "execute_result",
          "data": {
            "text/plain": [
              "Text(0.5, 1.0, 'Mileage vs Price')"
            ]
          },
          "metadata": {},
          "execution_count": 9
        },
        {
          "output_type": "display_data",
          "data": {
            "image/png": "[encoded data removed]",
            "text/plain": [
              "<Figure size 432x288 with 1 Axes>"
            ]
          },
          "metadata": {
            "needs_background": "light"
          }
        }
      ]
    },
    {
      "cell_type": "code",
      "source": [
        "R = Regressor.score(X, y)\n",
        "print(\"the R-square score is: {}\".format(R))\n",
        "if R > 0.8:\n",
        "    print(\"The correlation is strong(R-Sq score >0.8), the equation is a good fit\")\n",
        "else:\n",
        "    print(\"The correlation is weak(R-Sq score <0.8), the equation is not a good fit\") "
      ],
      "metadata": {
        "colab": {
          "base_uri": "https://localhost:8080/"
        },
        "id": "GATsrDH3xSM-",
        "outputId": "f5a43758-68ac-40b4-9feb-d627fb9a80e2"
      },
      "execution_count": 12,
      "outputs": [
        {
          "output_type": "stream",
          "name": "stdout",
          "text": [
            "the R-square score is: 0.02046344732348926\n",
            "The correlation is weak(R-Sq score <0.8), the equation is not a good fit\n"
          ]
        }
      ]
    },
    {
      "cell_type": "markdown",
      "source": [
        "## Tasks, Part 2\n",
        "\n",
        "1. Use mileage, cylinders, liters, doors, cruise, sound, and leather to find the linear regression equation.\n",
        "2. Find the equation's $R^2$ score (use the `.score` method) to determine whether the\n",
        "equation is a good fit for this data. (0.8 and greater is considered a strong correlation.)\n",
        "3. Find the combination of the factors that is the best predictor for price."
      ],
      "metadata": {
        "id": "QOlt54oHy5Nl"
      }
    },
    {
      "cell_type": "code",
      "metadata": {
        "id": "-b9TZGxag-An"
      },
      "source": [
        "#PART 2\n",
        "#Use mileage, cylinders, liters, doors, cruise, sound, and leather to find the linear regression equation\n",
        "feature = ['Mileage', 'Cylinder', 'Liter', 'Doors', 'Cruise', 'Sound', 'Leather']\n",
        "features = car_data[feature]\n",
        "target = car_data[['Price']]"
      ],
      "execution_count": 20,
      "outputs": []
    },
    {
      "cell_type": "code",
      "metadata": {
        "colab": {
          "base_uri": "https://localhost:8080/"
        },
        "id": "wuh3wkdchWFV",
        "outputId": "2e408514-28b2-48de-d68a-340374643e1b"
      },
      "source": [
        "#Initializing the linear reggression model and finding the intercept and coeffients of it \n",
        "Regressor2 = linear_model.LinearRegression()\n",
        "Regressor2.fit(features, target)\n",
        "print('Linear Regression intercept:', Regressor2.intercept_)\n",
        "print('Linear Regression coefficients:', Regressor2.coef_)"
      ],
      "execution_count": 21,
      "outputs": [
        {
          "output_type": "stream",
          "name": "stdout",
          "text": [
            "Linear Regression intercept: [6758.7551436]\n",
            "Linear Regression coefficients: [[-1.69747832e-01  3.79237893e+03 -7.87220732e+02 -1.54274585e+03\n",
            "   6.28899715e+03 -1.99379528e+03  3.34936162e+03]]\n"
          ]
        }
      ]
    },
    {
      "cell_type": "code",
      "metadata": {
        "colab": {
          "base_uri": "https://localhost:8080/"
        },
        "id": "gmwWVfrSiH3L",
        "outputId": "97d6344b-8418-4844-cbad-a9eb09119dd9"
      },
      "source": [
        "#Finding the R-Squared score for the first iteration-1 by considering the above features\n",
        "R_Squared_Score = Regressor2.score(features, target)\n",
        "print(\"the R-square score is: {}\".format(R_Squared_Score))\n",
        "if R_Squared_Score > 0.8:\n",
        "    print(\"The correlation is strong(R-Sq score >0.8), the equation is a good fit\")\n",
        "else:\n",
        "    print(\"The correlation is weak(R-Sq score <0.8), the equation is not a good fit\") "
      ],
      "execution_count": 22,
      "outputs": [
        {
          "output_type": "stream",
          "name": "stdout",
          "text": [
            "the R-square score is: 0.446264353672838\n",
            "The correlation is weak(R-Sq score <0.8), the equation is not a good fit\n"
          ]
        }
      ]
    },
    {
      "cell_type": "code",
      "source": [
        "#iteration - 2: #Without doors(least important feature)\n",
        "features2 = car_data[['Mileage', 'Cylinder','Liter','Cruise','Sound', 'Leather']]\n",
        "target2 = car_data[['Price']]\n",
        "Regressor2.fit(features2, target2)\n",
        "print(\"linear regression co-effs are: {} \".format((Regressor2.coef_)))\n",
        "print(\"linear regression intercept is: {} \".format((Regressor2.intercept_)))"
      ],
      "metadata": {
        "colab": {
          "base_uri": "https://localhost:8080/"
        },
        "id": "jXvYtShR0Ywp",
        "outputId": "a9ebdcc5-3996-4969-82f5-664263e17d01"
      },
      "execution_count": 25,
      "outputs": [
        {
          "output_type": "stream",
          "name": "stdout",
          "text": [
            "linear regression co-effs are: [[-1.68485816e-01  2.91476877e+03  3.51170244e+02  6.35165348e+03\n",
            "  -1.88987947e+03  3.47721212e+03]] \n",
            "linear regression intercept is: [2247.81220038] \n"
          ]
        }
      ]
    },
    {
      "cell_type": "code",
      "source": [
        "#Finding the R-squared score for the iteration2\n",
        "R_Squared_Score1 = Regressor2.score(features2, target2)\n",
        "print(\"the R-square score is: {}\".format(R_Squared_Score1))\n",
        "if R_Squared_Score1 > 0.8:\n",
        "    print(\"The correlation is strong(R-Sq score >0.8), the equation is a good fit\")\n",
        "else:\n",
        "    print(\"The correlation is weak(R-Sq score <0.8), the equation is not a good fit\") "
      ],
      "metadata": {
        "colab": {
          "base_uri": "https://localhost:8080/"
        },
        "id": "8O5xewGG1c2K",
        "outputId": "3fb66dfe-1c0c-4d16-a062-292ed184f0f3"
      },
      "execution_count": 27,
      "outputs": [
        {
          "output_type": "stream",
          "name": "stdout",
          "text": [
            "the R-square score is: 0.43014148406475605\n",
            "The correlation is weak(R-Sq score <0.8), the equation is not a good fit\n"
          ]
        }
      ]
    },
    {
      "cell_type": "code",
      "source": [
        "#iteration - 3: #trying Without liters(least important feature)\n",
        "features3 = car_data[['Mileage', 'Cylinder','Doors','Cruise','Sound', 'Leather']]\n",
        "target3 = car_data[['Price']]\n",
        "Regressor2.fit(features3, target3)\n",
        "print(\"linear regression co-effs are: {} \".format((Regressor2.coef_)))\n",
        "print(\"linear regression intercept is: {} \".format((Regressor2.intercept_)))"
      ],
      "metadata": {
        "colab": {
          "base_uri": "https://localhost:8080/"
        },
        "id": "VmENri7e185a",
        "outputId": "2dddea94-3b2b-467c-d820-4bd81557ecaf"
      },
      "execution_count": 28,
      "outputs": [
        {
          "output_type": "stream",
          "name": "stdout",
          "text": [
            "linear regression co-effs are: [[-1.70517079e-01  3.20012460e+03 -1.46339906e+03  6.20551127e+03\n",
            "  -2.02440071e+03  3.32714331e+03]] \n",
            "linear regression intercept is: [7323.16430984] \n"
          ]
        }
      ]
    },
    {
      "cell_type": "code",
      "source": [
        "#Finding the R-squared score for the iteration3\n",
        "R_Squared_Score2 = Regressor2.score(features3, target3)\n",
        "print(\"the R-square score is: {}\".format(R_Squared_Score1))\n",
        "if R_Squared_Score2 > 0.8:\n",
        "    print(\"The correlation is strong(R-Sq score >0.8), the equation is a good fit\")\n",
        "else:\n",
        "    print(\"The correlation is weak(R-Sq score <0.8), the equation is not a good fit\") "
      ],
      "metadata": {
        "colab": {
          "base_uri": "https://localhost:8080/"
        },
        "id": "KhG9mBXN2MGL",
        "outputId": "43d1162c-fc15-4624-c53e-5998b2d4db66"
      },
      "execution_count": 29,
      "outputs": [
        {
          "output_type": "stream",
          "name": "stdout",
          "text": [
            "the R-square score is: 0.43014148406475605\n",
            "The correlation is weak(R-Sq score <0.8), the equation is not a good fit\n"
          ]
        }
      ]
    },
    {
      "cell_type": "markdown",
      "source": [
        "The R-square scores starts decreasing when we remove the least important features like (Doors,liters). So the best combination of factors to predict price is ['Mileage', 'Cylinder','Doors','Liter','Cruise','Sound','Leather']"
      ],
      "metadata": {
        "id": "MGDoqPlf2d9J"
      }
    },
    {
      "cell_type": "markdown",
      "source": [
        "## Tasks 3, Hard Mode\n",
        "\n",
        "1. Research dummy variables in scikit-learn to see how to use the make, model, and body type.\n",
        "2. Find the best combination of factors to predict price."
      ],
      "metadata": {
        "id": "hM67VXO324UN"
      }
    },
    {
      "cell_type": "code",
      "source": [
        "from sklearn.preprocessing import OneHotEncoder\n",
        "one_hot_enc = OneHotEncoder(sparse=False)\n",
        "pd.DataFrame(one_hot_enc.fit_transform(car_data[['Make','Model','Type']]))"
      ],
      "metadata": {
        "colab": {
          "base_uri": "https://localhost:8080/",
          "height": 444
        },
        "id": "nu9kuFef277e",
        "outputId": "50378894-b2b4-4c2a-ded6-dfb21e2044b8"
      },
      "execution_count": 31,
      "outputs": [
        {
          "output_type": "execute_result",
          "data": {
            "text/html": [
              "<div>\n",
              "<style scoped>\n",
              "    .dataframe tbody tr th:only-of-type {\n",
              "        vertical-align: middle;\n",
              "    }\n",
              "\n",
              "    .dataframe tbody tr th {\n",
              "        vertical-align: top;\n",
              "    }\n",
              "\n",
              "    .dataframe thead th {\n",
              "        text-align: right;\n",
              "    }\n",
              "</style>\n",
              "<table border=\"1\" class=\"dataframe\">\n",
              "  <thead>\n",
              "    <tr style=\"text-align: right;\">\n",
              "      <th></th>\n",
              "      <th>0</th>\n",
              "      <th>1</th>\n",
              "      <th>2</th>\n",
              "      <th>3</th>\n",
              "      <th>4</th>\n",
              "      <th>5</th>\n",
              "      <th>6</th>\n",
              "      <th>7</th>\n",
              "      <th>8</th>\n",
              "      <th>9</th>\n",
              "      <th>10</th>\n",
              "      <th>11</th>\n",
              "      <th>12</th>\n",
              "      <th>13</th>\n",
              "      <th>14</th>\n",
              "      <th>15</th>\n",
              "      <th>16</th>\n",
              "      <th>17</th>\n",
              "      <th>18</th>\n",
              "      <th>19</th>\n",
              "      <th>20</th>\n",
              "      <th>21</th>\n",
              "      <th>22</th>\n",
              "      <th>23</th>\n",
              "      <th>24</th>\n",
              "      <th>25</th>\n",
              "      <th>26</th>\n",
              "      <th>27</th>\n",
              "      <th>28</th>\n",
              "      <th>29</th>\n",
              "      <th>30</th>\n",
              "      <th>31</th>\n",
              "      <th>32</th>\n",
              "      <th>33</th>\n",
              "      <th>34</th>\n",
              "      <th>35</th>\n",
              "      <th>36</th>\n",
              "      <th>37</th>\n",
              "      <th>38</th>\n",
              "      <th>39</th>\n",
              "      <th>40</th>\n",
              "      <th>41</th>\n",
              "      <th>42</th>\n",
              "    </tr>\n",
              "  </thead>\n",
              "  <tbody>\n",
              "    <tr>\n",
              "      <th>0</th>\n",
              "      <td>1.0</td>\n",
              "      <td>0.0</td>\n",
              "      <td>0.0</td>\n",
              "      <td>0.0</td>\n",
              "      <td>0.0</td>\n",
              "      <td>0.0</td>\n",
              "      <td>0.0</td>\n",
              "      <td>0.0</td>\n",
              "      <td>0.0</td>\n",
              "      <td>0.0</td>\n",
              "      <td>0.0</td>\n",
              "      <td>0.0</td>\n",
              "      <td>0.0</td>\n",
              "      <td>0.0</td>\n",
              "      <td>0.0</td>\n",
              "      <td>0.0</td>\n",
              "      <td>1.0</td>\n",
              "      <td>0.0</td>\n",
              "      <td>0.0</td>\n",
              "      <td>0.0</td>\n",
              "      <td>0.0</td>\n",
              "      <td>0.0</td>\n",
              "      <td>0.0</td>\n",
              "      <td>0.0</td>\n",
              "      <td>0.0</td>\n",
              "      <td>0.0</td>\n",
              "      <td>0.0</td>\n",
              "      <td>0.0</td>\n",
              "      <td>0.0</td>\n",
              "      <td>0.0</td>\n",
              "      <td>0.0</td>\n",
              "      <td>0.0</td>\n",
              "      <td>0.0</td>\n",
              "      <td>0.0</td>\n",
              "      <td>0.0</td>\n",
              "      <td>0.0</td>\n",
              "      <td>0.0</td>\n",
              "      <td>0.0</td>\n",
              "      <td>0.0</td>\n",
              "      <td>0.0</td>\n",
              "      <td>0.0</td>\n",
              "      <td>1.0</td>\n",
              "      <td>0.0</td>\n",
              "    </tr>\n",
              "    <tr>\n",
              "      <th>1</th>\n",
              "      <td>1.0</td>\n",
              "      <td>0.0</td>\n",
              "      <td>0.0</td>\n",
              "      <td>0.0</td>\n",
              "      <td>0.0</td>\n",
              "      <td>0.0</td>\n",
              "      <td>0.0</td>\n",
              "      <td>0.0</td>\n",
              "      <td>0.0</td>\n",
              "      <td>0.0</td>\n",
              "      <td>0.0</td>\n",
              "      <td>0.0</td>\n",
              "      <td>0.0</td>\n",
              "      <td>0.0</td>\n",
              "      <td>0.0</td>\n",
              "      <td>0.0</td>\n",
              "      <td>1.0</td>\n",
              "      <td>0.0</td>\n",
              "      <td>0.0</td>\n",
              "      <td>0.0</td>\n",
              "      <td>0.0</td>\n",
              "      <td>0.0</td>\n",
              "      <td>0.0</td>\n",
              "      <td>0.0</td>\n",
              "      <td>0.0</td>\n",
              "      <td>0.0</td>\n",
              "      <td>0.0</td>\n",
              "      <td>0.0</td>\n",
              "      <td>0.0</td>\n",
              "      <td>0.0</td>\n",
              "      <td>0.0</td>\n",
              "      <td>0.0</td>\n",
              "      <td>0.0</td>\n",
              "      <td>0.0</td>\n",
              "      <td>0.0</td>\n",
              "      <td>0.0</td>\n",
              "      <td>0.0</td>\n",
              "      <td>0.0</td>\n",
              "      <td>0.0</td>\n",
              "      <td>0.0</td>\n",
              "      <td>0.0</td>\n",
              "      <td>1.0</td>\n",
              "      <td>0.0</td>\n",
              "    </tr>\n",
              "    <tr>\n",
              "      <th>2</th>\n",
              "      <td>1.0</td>\n",
              "      <td>0.0</td>\n",
              "      <td>0.0</td>\n",
              "      <td>0.0</td>\n",
              "      <td>0.0</td>\n",
              "      <td>0.0</td>\n",
              "      <td>0.0</td>\n",
              "      <td>0.0</td>\n",
              "      <td>0.0</td>\n",
              "      <td>0.0</td>\n",
              "      <td>0.0</td>\n",
              "      <td>0.0</td>\n",
              "      <td>0.0</td>\n",
              "      <td>0.0</td>\n",
              "      <td>0.0</td>\n",
              "      <td>0.0</td>\n",
              "      <td>1.0</td>\n",
              "      <td>0.0</td>\n",
              "      <td>0.0</td>\n",
              "      <td>0.0</td>\n",
              "      <td>0.0</td>\n",
              "      <td>0.0</td>\n",
              "      <td>0.0</td>\n",
              "      <td>0.0</td>\n",
              "      <td>0.0</td>\n",
              "      <td>0.0</td>\n",
              "      <td>0.0</td>\n",
              "      <td>0.0</td>\n",
              "      <td>0.0</td>\n",
              "      <td>0.0</td>\n",
              "      <td>0.0</td>\n",
              "      <td>0.0</td>\n",
              "      <td>0.0</td>\n",
              "      <td>0.0</td>\n",
              "      <td>0.0</td>\n",
              "      <td>0.0</td>\n",
              "      <td>0.0</td>\n",
              "      <td>0.0</td>\n",
              "      <td>0.0</td>\n",
              "      <td>0.0</td>\n",
              "      <td>0.0</td>\n",
              "      <td>1.0</td>\n",
              "      <td>0.0</td>\n",
              "    </tr>\n",
              "    <tr>\n",
              "      <th>3</th>\n",
              "      <td>1.0</td>\n",
              "      <td>0.0</td>\n",
              "      <td>0.0</td>\n",
              "      <td>0.0</td>\n",
              "      <td>0.0</td>\n",
              "      <td>0.0</td>\n",
              "      <td>0.0</td>\n",
              "      <td>0.0</td>\n",
              "      <td>0.0</td>\n",
              "      <td>0.0</td>\n",
              "      <td>0.0</td>\n",
              "      <td>0.0</td>\n",
              "      <td>0.0</td>\n",
              "      <td>0.0</td>\n",
              "      <td>0.0</td>\n",
              "      <td>0.0</td>\n",
              "      <td>1.0</td>\n",
              "      <td>0.0</td>\n",
              "      <td>0.0</td>\n",
              "      <td>0.0</td>\n",
              "      <td>0.0</td>\n",
              "      <td>0.0</td>\n",
              "      <td>0.0</td>\n",
              "      <td>0.0</td>\n",
              "      <td>0.0</td>\n",
              "      <td>0.0</td>\n",
              "      <td>0.0</td>\n",
              "      <td>0.0</td>\n",
              "      <td>0.0</td>\n",
              "      <td>0.0</td>\n",
              "      <td>0.0</td>\n",
              "      <td>0.0</td>\n",
              "      <td>0.0</td>\n",
              "      <td>0.0</td>\n",
              "      <td>0.0</td>\n",
              "      <td>0.0</td>\n",
              "      <td>0.0</td>\n",
              "      <td>0.0</td>\n",
              "      <td>0.0</td>\n",
              "      <td>0.0</td>\n",
              "      <td>0.0</td>\n",
              "      <td>1.0</td>\n",
              "      <td>0.0</td>\n",
              "    </tr>\n",
              "    <tr>\n",
              "      <th>4</th>\n",
              "      <td>1.0</td>\n",
              "      <td>0.0</td>\n",
              "      <td>0.0</td>\n",
              "      <td>0.0</td>\n",
              "      <td>0.0</td>\n",
              "      <td>0.0</td>\n",
              "      <td>0.0</td>\n",
              "      <td>0.0</td>\n",
              "      <td>0.0</td>\n",
              "      <td>0.0</td>\n",
              "      <td>0.0</td>\n",
              "      <td>0.0</td>\n",
              "      <td>0.0</td>\n",
              "      <td>0.0</td>\n",
              "      <td>0.0</td>\n",
              "      <td>0.0</td>\n",
              "      <td>1.0</td>\n",
              "      <td>0.0</td>\n",
              "      <td>0.0</td>\n",
              "      <td>0.0</td>\n",
              "      <td>0.0</td>\n",
              "      <td>0.0</td>\n",
              "      <td>0.0</td>\n",
              "      <td>0.0</td>\n",
              "      <td>0.0</td>\n",
              "      <td>0.0</td>\n",
              "      <td>0.0</td>\n",
              "      <td>0.0</td>\n",
              "      <td>0.0</td>\n",
              "      <td>0.0</td>\n",
              "      <td>0.0</td>\n",
              "      <td>0.0</td>\n",
              "      <td>0.0</td>\n",
              "      <td>0.0</td>\n",
              "      <td>0.0</td>\n",
              "      <td>0.0</td>\n",
              "      <td>0.0</td>\n",
              "      <td>0.0</td>\n",
              "      <td>0.0</td>\n",
              "      <td>0.0</td>\n",
              "      <td>0.0</td>\n",
              "      <td>1.0</td>\n",
              "      <td>0.0</td>\n",
              "    </tr>\n",
              "    <tr>\n",
              "      <th>...</th>\n",
              "      <td>...</td>\n",
              "      <td>...</td>\n",
              "      <td>...</td>\n",
              "      <td>...</td>\n",
              "      <td>...</td>\n",
              "      <td>...</td>\n",
              "      <td>...</td>\n",
              "      <td>...</td>\n",
              "      <td>...</td>\n",
              "      <td>...</td>\n",
              "      <td>...</td>\n",
              "      <td>...</td>\n",
              "      <td>...</td>\n",
              "      <td>...</td>\n",
              "      <td>...</td>\n",
              "      <td>...</td>\n",
              "      <td>...</td>\n",
              "      <td>...</td>\n",
              "      <td>...</td>\n",
              "      <td>...</td>\n",
              "      <td>...</td>\n",
              "      <td>...</td>\n",
              "      <td>...</td>\n",
              "      <td>...</td>\n",
              "      <td>...</td>\n",
              "      <td>...</td>\n",
              "      <td>...</td>\n",
              "      <td>...</td>\n",
              "      <td>...</td>\n",
              "      <td>...</td>\n",
              "      <td>...</td>\n",
              "      <td>...</td>\n",
              "      <td>...</td>\n",
              "      <td>...</td>\n",
              "      <td>...</td>\n",
              "      <td>...</td>\n",
              "      <td>...</td>\n",
              "      <td>...</td>\n",
              "      <td>...</td>\n",
              "      <td>...</td>\n",
              "      <td>...</td>\n",
              "      <td>...</td>\n",
              "      <td>...</td>\n",
              "    </tr>\n",
              "    <tr>\n",
              "      <th>799</th>\n",
              "      <td>0.0</td>\n",
              "      <td>0.0</td>\n",
              "      <td>0.0</td>\n",
              "      <td>0.0</td>\n",
              "      <td>0.0</td>\n",
              "      <td>1.0</td>\n",
              "      <td>0.0</td>\n",
              "      <td>0.0</td>\n",
              "      <td>0.0</td>\n",
              "      <td>0.0</td>\n",
              "      <td>0.0</td>\n",
              "      <td>0.0</td>\n",
              "      <td>0.0</td>\n",
              "      <td>0.0</td>\n",
              "      <td>0.0</td>\n",
              "      <td>0.0</td>\n",
              "      <td>0.0</td>\n",
              "      <td>0.0</td>\n",
              "      <td>0.0</td>\n",
              "      <td>0.0</td>\n",
              "      <td>0.0</td>\n",
              "      <td>0.0</td>\n",
              "      <td>0.0</td>\n",
              "      <td>0.0</td>\n",
              "      <td>0.0</td>\n",
              "      <td>0.0</td>\n",
              "      <td>0.0</td>\n",
              "      <td>1.0</td>\n",
              "      <td>0.0</td>\n",
              "      <td>0.0</td>\n",
              "      <td>0.0</td>\n",
              "      <td>0.0</td>\n",
              "      <td>0.0</td>\n",
              "      <td>0.0</td>\n",
              "      <td>0.0</td>\n",
              "      <td>0.0</td>\n",
              "      <td>0.0</td>\n",
              "      <td>0.0</td>\n",
              "      <td>0.0</td>\n",
              "      <td>0.0</td>\n",
              "      <td>0.0</td>\n",
              "      <td>1.0</td>\n",
              "      <td>0.0</td>\n",
              "    </tr>\n",
              "    <tr>\n",
              "      <th>800</th>\n",
              "      <td>0.0</td>\n",
              "      <td>0.0</td>\n",
              "      <td>0.0</td>\n",
              "      <td>0.0</td>\n",
              "      <td>0.0</td>\n",
              "      <td>1.0</td>\n",
              "      <td>0.0</td>\n",
              "      <td>0.0</td>\n",
              "      <td>0.0</td>\n",
              "      <td>0.0</td>\n",
              "      <td>0.0</td>\n",
              "      <td>0.0</td>\n",
              "      <td>0.0</td>\n",
              "      <td>0.0</td>\n",
              "      <td>0.0</td>\n",
              "      <td>0.0</td>\n",
              "      <td>0.0</td>\n",
              "      <td>0.0</td>\n",
              "      <td>0.0</td>\n",
              "      <td>0.0</td>\n",
              "      <td>0.0</td>\n",
              "      <td>0.0</td>\n",
              "      <td>0.0</td>\n",
              "      <td>0.0</td>\n",
              "      <td>0.0</td>\n",
              "      <td>0.0</td>\n",
              "      <td>0.0</td>\n",
              "      <td>1.0</td>\n",
              "      <td>0.0</td>\n",
              "      <td>0.0</td>\n",
              "      <td>0.0</td>\n",
              "      <td>0.0</td>\n",
              "      <td>0.0</td>\n",
              "      <td>0.0</td>\n",
              "      <td>0.0</td>\n",
              "      <td>0.0</td>\n",
              "      <td>0.0</td>\n",
              "      <td>0.0</td>\n",
              "      <td>0.0</td>\n",
              "      <td>0.0</td>\n",
              "      <td>0.0</td>\n",
              "      <td>1.0</td>\n",
              "      <td>0.0</td>\n",
              "    </tr>\n",
              "    <tr>\n",
              "      <th>801</th>\n",
              "      <td>0.0</td>\n",
              "      <td>0.0</td>\n",
              "      <td>0.0</td>\n",
              "      <td>0.0</td>\n",
              "      <td>0.0</td>\n",
              "      <td>1.0</td>\n",
              "      <td>0.0</td>\n",
              "      <td>0.0</td>\n",
              "      <td>0.0</td>\n",
              "      <td>0.0</td>\n",
              "      <td>0.0</td>\n",
              "      <td>0.0</td>\n",
              "      <td>0.0</td>\n",
              "      <td>0.0</td>\n",
              "      <td>0.0</td>\n",
              "      <td>0.0</td>\n",
              "      <td>0.0</td>\n",
              "      <td>0.0</td>\n",
              "      <td>0.0</td>\n",
              "      <td>0.0</td>\n",
              "      <td>0.0</td>\n",
              "      <td>0.0</td>\n",
              "      <td>0.0</td>\n",
              "      <td>0.0</td>\n",
              "      <td>0.0</td>\n",
              "      <td>0.0</td>\n",
              "      <td>0.0</td>\n",
              "      <td>1.0</td>\n",
              "      <td>0.0</td>\n",
              "      <td>0.0</td>\n",
              "      <td>0.0</td>\n",
              "      <td>0.0</td>\n",
              "      <td>0.0</td>\n",
              "      <td>0.0</td>\n",
              "      <td>0.0</td>\n",
              "      <td>0.0</td>\n",
              "      <td>0.0</td>\n",
              "      <td>0.0</td>\n",
              "      <td>0.0</td>\n",
              "      <td>0.0</td>\n",
              "      <td>0.0</td>\n",
              "      <td>1.0</td>\n",
              "      <td>0.0</td>\n",
              "    </tr>\n",
              "    <tr>\n",
              "      <th>802</th>\n",
              "      <td>0.0</td>\n",
              "      <td>0.0</td>\n",
              "      <td>0.0</td>\n",
              "      <td>0.0</td>\n",
              "      <td>0.0</td>\n",
              "      <td>1.0</td>\n",
              "      <td>0.0</td>\n",
              "      <td>0.0</td>\n",
              "      <td>0.0</td>\n",
              "      <td>0.0</td>\n",
              "      <td>0.0</td>\n",
              "      <td>0.0</td>\n",
              "      <td>0.0</td>\n",
              "      <td>0.0</td>\n",
              "      <td>0.0</td>\n",
              "      <td>0.0</td>\n",
              "      <td>0.0</td>\n",
              "      <td>0.0</td>\n",
              "      <td>0.0</td>\n",
              "      <td>0.0</td>\n",
              "      <td>0.0</td>\n",
              "      <td>0.0</td>\n",
              "      <td>0.0</td>\n",
              "      <td>0.0</td>\n",
              "      <td>0.0</td>\n",
              "      <td>0.0</td>\n",
              "      <td>0.0</td>\n",
              "      <td>1.0</td>\n",
              "      <td>0.0</td>\n",
              "      <td>0.0</td>\n",
              "      <td>0.0</td>\n",
              "      <td>0.0</td>\n",
              "      <td>0.0</td>\n",
              "      <td>0.0</td>\n",
              "      <td>0.0</td>\n",
              "      <td>0.0</td>\n",
              "      <td>0.0</td>\n",
              "      <td>0.0</td>\n",
              "      <td>0.0</td>\n",
              "      <td>0.0</td>\n",
              "      <td>0.0</td>\n",
              "      <td>1.0</td>\n",
              "      <td>0.0</td>\n",
              "    </tr>\n",
              "    <tr>\n",
              "      <th>803</th>\n",
              "      <td>0.0</td>\n",
              "      <td>0.0</td>\n",
              "      <td>0.0</td>\n",
              "      <td>0.0</td>\n",
              "      <td>0.0</td>\n",
              "      <td>1.0</td>\n",
              "      <td>0.0</td>\n",
              "      <td>0.0</td>\n",
              "      <td>0.0</td>\n",
              "      <td>0.0</td>\n",
              "      <td>0.0</td>\n",
              "      <td>0.0</td>\n",
              "      <td>0.0</td>\n",
              "      <td>0.0</td>\n",
              "      <td>0.0</td>\n",
              "      <td>0.0</td>\n",
              "      <td>0.0</td>\n",
              "      <td>0.0</td>\n",
              "      <td>0.0</td>\n",
              "      <td>0.0</td>\n",
              "      <td>0.0</td>\n",
              "      <td>0.0</td>\n",
              "      <td>0.0</td>\n",
              "      <td>0.0</td>\n",
              "      <td>0.0</td>\n",
              "      <td>0.0</td>\n",
              "      <td>0.0</td>\n",
              "      <td>1.0</td>\n",
              "      <td>0.0</td>\n",
              "      <td>0.0</td>\n",
              "      <td>0.0</td>\n",
              "      <td>0.0</td>\n",
              "      <td>0.0</td>\n",
              "      <td>0.0</td>\n",
              "      <td>0.0</td>\n",
              "      <td>0.0</td>\n",
              "      <td>0.0</td>\n",
              "      <td>0.0</td>\n",
              "      <td>0.0</td>\n",
              "      <td>0.0</td>\n",
              "      <td>0.0</td>\n",
              "      <td>1.0</td>\n",
              "      <td>0.0</td>\n",
              "    </tr>\n",
              "  </tbody>\n",
              "</table>\n",
              "<p>804 rows × 43 columns</p>\n",
              "</div>"
            ],
            "text/plain": [
              "      0    1    2    3    4    5    6   ...   36   37   38   39   40   41   42\n",
              "0    1.0  0.0  0.0  0.0  0.0  0.0  0.0  ...  0.0  0.0  0.0  0.0  0.0  1.0  0.0\n",
              "1    1.0  0.0  0.0  0.0  0.0  0.0  0.0  ...  0.0  0.0  0.0  0.0  0.0  1.0  0.0\n",
              "2    1.0  0.0  0.0  0.0  0.0  0.0  0.0  ...  0.0  0.0  0.0  0.0  0.0  1.0  0.0\n",
              "3    1.0  0.0  0.0  0.0  0.0  0.0  0.0  ...  0.0  0.0  0.0  0.0  0.0  1.0  0.0\n",
              "4    1.0  0.0  0.0  0.0  0.0  0.0  0.0  ...  0.0  0.0  0.0  0.0  0.0  1.0  0.0\n",
              "..   ...  ...  ...  ...  ...  ...  ...  ...  ...  ...  ...  ...  ...  ...  ...\n",
              "799  0.0  0.0  0.0  0.0  0.0  1.0  0.0  ...  0.0  0.0  0.0  0.0  0.0  1.0  0.0\n",
              "800  0.0  0.0  0.0  0.0  0.0  1.0  0.0  ...  0.0  0.0  0.0  0.0  0.0  1.0  0.0\n",
              "801  0.0  0.0  0.0  0.0  0.0  1.0  0.0  ...  0.0  0.0  0.0  0.0  0.0  1.0  0.0\n",
              "802  0.0  0.0  0.0  0.0  0.0  1.0  0.0  ...  0.0  0.0  0.0  0.0  0.0  1.0  0.0\n",
              "803  0.0  0.0  0.0  0.0  0.0  1.0  0.0  ...  0.0  0.0  0.0  0.0  0.0  1.0  0.0\n",
              "\n",
              "[804 rows x 43 columns]"
            ]
          },
          "metadata": {},
          "execution_count": 31
        }
      ]
    },
    {
      "cell_type": "code",
      "source": [
        "one_hot_enc.get_feature_names()"
      ],
      "metadata": {
        "colab": {
          "base_uri": "https://localhost:8080/"
        },
        "id": "DjF0HOk94BwE",
        "outputId": "8403e56a-eb03-46e0-ad0c-b21e87cf1339"
      },
      "execution_count": 32,
      "outputs": [
        {
          "output_type": "stream",
          "name": "stderr",
          "text": [
            "/usr/local/lib/python3.7/dist-packages/sklearn/utils/deprecation.py:87: FutureWarning: Function get_feature_names is deprecated; get_feature_names is deprecated in 1.0 and will be removed in 1.2. Please use get_feature_names_out instead.\n",
            "  warnings.warn(msg, category=FutureWarning)\n"
          ]
        },
        {
          "output_type": "execute_result",
          "data": {
            "text/plain": [
              "array(['x0_Buick', 'x0_Cadillac', 'x0_Chevrolet', 'x0_Pontiac', 'x0_SAAB',\n",
              "       'x0_Saturn', 'x1_9-2X AWD', 'x1_9_3', 'x1_9_3 HO', 'x1_9_5',\n",
              "       'x1_9_5 HO', 'x1_AVEO', 'x1_Bonneville', 'x1_CST-V', 'x1_CTS',\n",
              "       'x1_Cavalier', 'x1_Century', 'x1_Classic', 'x1_Cobalt',\n",
              "       'x1_Corvette', 'x1_Deville', 'x1_G6', 'x1_GTO', 'x1_Grand Am',\n",
              "       'x1_Grand Prix', 'x1_Impala', 'x1_Ion', 'x1_L Series',\n",
              "       'x1_Lacrosse', 'x1_Lesabre', 'x1_Malibu', 'x1_Monte Carlo',\n",
              "       'x1_Park Avenue', 'x1_STS-V6', 'x1_STS-V8', 'x1_Sunfire',\n",
              "       'x1_Vibe', 'x1_XLR-V8', 'x2_Convertible', 'x2_Coupe',\n",
              "       'x2_Hatchback', 'x2_Sedan', 'x2_Wagon'], dtype=object)"
            ]
          },
          "metadata": {},
          "execution_count": 32
        }
      ]
    },
    {
      "cell_type": "code",
      "source": [
        "dummy_car_data =pd.DataFrame(one_hot_enc.fit_transform(car_data[['Make','Model','Type']]), columns = (one_hot_enc.get_feature_names()))\n",
        "dummy_car_data.head()"
      ],
      "metadata": {
        "colab": {
          "base_uri": "https://localhost:8080/",
          "height": 296
        },
        "id": "lj2mrJ8n4QcW",
        "outputId": "051de72d-4705-4978-8fce-444fb592ad3a"
      },
      "execution_count": 34,
      "outputs": [
        {
          "output_type": "stream",
          "name": "stderr",
          "text": [
            "/usr/local/lib/python3.7/dist-packages/sklearn/utils/deprecation.py:87: FutureWarning: Function get_feature_names is deprecated; get_feature_names is deprecated in 1.0 and will be removed in 1.2. Please use get_feature_names_out instead.\n",
            "  warnings.warn(msg, category=FutureWarning)\n"
          ]
        },
        {
          "output_type": "execute_result",
          "data": {
            "text/html": [
              "<div>\n",
              "<style scoped>\n",
              "    .dataframe tbody tr th:only-of-type {\n",
              "        vertical-align: middle;\n",
              "    }\n",
              "\n",
              "    .dataframe tbody tr th {\n",
              "        vertical-align: top;\n",
              "    }\n",
              "\n",
              "    .dataframe thead th {\n",
              "        text-align: right;\n",
              "    }\n",
              "</style>\n",
              "<table border=\"1\" class=\"dataframe\">\n",
              "  <thead>\n",
              "    <tr style=\"text-align: right;\">\n",
              "      <th></th>\n",
              "      <th>x0_Buick</th>\n",
              "      <th>x0_Cadillac</th>\n",
              "      <th>x0_Chevrolet</th>\n",
              "      <th>x0_Pontiac</th>\n",
              "      <th>x0_SAAB</th>\n",
              "      <th>x0_Saturn</th>\n",
              "      <th>x1_9-2X AWD</th>\n",
              "      <th>x1_9_3</th>\n",
              "      <th>x1_9_3 HO</th>\n",
              "      <th>x1_9_5</th>\n",
              "      <th>x1_9_5 HO</th>\n",
              "      <th>x1_AVEO</th>\n",
              "      <th>x1_Bonneville</th>\n",
              "      <th>x1_CST-V</th>\n",
              "      <th>x1_CTS</th>\n",
              "      <th>x1_Cavalier</th>\n",
              "      <th>x1_Century</th>\n",
              "      <th>x1_Classic</th>\n",
              "      <th>x1_Cobalt</th>\n",
              "      <th>x1_Corvette</th>\n",
              "      <th>x1_Deville</th>\n",
              "      <th>x1_G6</th>\n",
              "      <th>x1_GTO</th>\n",
              "      <th>x1_Grand Am</th>\n",
              "      <th>x1_Grand Prix</th>\n",
              "      <th>x1_Impala</th>\n",
              "      <th>x1_Ion</th>\n",
              "      <th>x1_L Series</th>\n",
              "      <th>x1_Lacrosse</th>\n",
              "      <th>x1_Lesabre</th>\n",
              "      <th>x1_Malibu</th>\n",
              "      <th>x1_Monte Carlo</th>\n",
              "      <th>x1_Park Avenue</th>\n",
              "      <th>x1_STS-V6</th>\n",
              "      <th>x1_STS-V8</th>\n",
              "      <th>x1_Sunfire</th>\n",
              "      <th>x1_Vibe</th>\n",
              "      <th>x1_XLR-V8</th>\n",
              "      <th>x2_Convertible</th>\n",
              "      <th>x2_Coupe</th>\n",
              "      <th>x2_Hatchback</th>\n",
              "      <th>x2_Sedan</th>\n",
              "      <th>x2_Wagon</th>\n",
              "    </tr>\n",
              "  </thead>\n",
              "  <tbody>\n",
              "    <tr>\n",
              "      <th>0</th>\n",
              "      <td>1.0</td>\n",
              "      <td>0.0</td>\n",
              "      <td>0.0</td>\n",
              "      <td>0.0</td>\n",
              "      <td>0.0</td>\n",
              "      <td>0.0</td>\n",
              "      <td>0.0</td>\n",
              "      <td>0.0</td>\n",
              "      <td>0.0</td>\n",
              "      <td>0.0</td>\n",
              "      <td>0.0</td>\n",
              "      <td>0.0</td>\n",
              "      <td>0.0</td>\n",
              "      <td>0.0</td>\n",
              "      <td>0.0</td>\n",
              "      <td>0.0</td>\n",
              "      <td>1.0</td>\n",
              "      <td>0.0</td>\n",
              "      <td>0.0</td>\n",
              "      <td>0.0</td>\n",
              "      <td>0.0</td>\n",
              "      <td>0.0</td>\n",
              "      <td>0.0</td>\n",
              "      <td>0.0</td>\n",
              "      <td>0.0</td>\n",
              "      <td>0.0</td>\n",
              "      <td>0.0</td>\n",
              "      <td>0.0</td>\n",
              "      <td>0.0</td>\n",
              "      <td>0.0</td>\n",
              "      <td>0.0</td>\n",
              "      <td>0.0</td>\n",
              "      <td>0.0</td>\n",
              "      <td>0.0</td>\n",
              "      <td>0.0</td>\n",
              "      <td>0.0</td>\n",
              "      <td>0.0</td>\n",
              "      <td>0.0</td>\n",
              "      <td>0.0</td>\n",
              "      <td>0.0</td>\n",
              "      <td>0.0</td>\n",
              "      <td>1.0</td>\n",
              "      <td>0.0</td>\n",
              "    </tr>\n",
              "    <tr>\n",
              "      <th>1</th>\n",
              "      <td>1.0</td>\n",
              "      <td>0.0</td>\n",
              "      <td>0.0</td>\n",
              "      <td>0.0</td>\n",
              "      <td>0.0</td>\n",
              "      <td>0.0</td>\n",
              "      <td>0.0</td>\n",
              "      <td>0.0</td>\n",
              "      <td>0.0</td>\n",
              "      <td>0.0</td>\n",
              "      <td>0.0</td>\n",
              "      <td>0.0</td>\n",
              "      <td>0.0</td>\n",
              "      <td>0.0</td>\n",
              "      <td>0.0</td>\n",
              "      <td>0.0</td>\n",
              "      <td>1.0</td>\n",
              "      <td>0.0</td>\n",
              "      <td>0.0</td>\n",
              "      <td>0.0</td>\n",
              "      <td>0.0</td>\n",
              "      <td>0.0</td>\n",
              "      <td>0.0</td>\n",
              "      <td>0.0</td>\n",
              "      <td>0.0</td>\n",
              "      <td>0.0</td>\n",
              "      <td>0.0</td>\n",
              "      <td>0.0</td>\n",
              "      <td>0.0</td>\n",
              "      <td>0.0</td>\n",
              "      <td>0.0</td>\n",
              "      <td>0.0</td>\n",
              "      <td>0.0</td>\n",
              "      <td>0.0</td>\n",
              "      <td>0.0</td>\n",
              "      <td>0.0</td>\n",
              "      <td>0.0</td>\n",
              "      <td>0.0</td>\n",
              "      <td>0.0</td>\n",
              "      <td>0.0</td>\n",
              "      <td>0.0</td>\n",
              "      <td>1.0</td>\n",
              "      <td>0.0</td>\n",
              "    </tr>\n",
              "    <tr>\n",
              "      <th>2</th>\n",
              "      <td>1.0</td>\n",
              "      <td>0.0</td>\n",
              "      <td>0.0</td>\n",
              "      <td>0.0</td>\n",
              "      <td>0.0</td>\n",
              "      <td>0.0</td>\n",
              "      <td>0.0</td>\n",
              "      <td>0.0</td>\n",
              "      <td>0.0</td>\n",
              "      <td>0.0</td>\n",
              "      <td>0.0</td>\n",
              "      <td>0.0</td>\n",
              "      <td>0.0</td>\n",
              "      <td>0.0</td>\n",
              "      <td>0.0</td>\n",
              "      <td>0.0</td>\n",
              "      <td>1.0</td>\n",
              "      <td>0.0</td>\n",
              "      <td>0.0</td>\n",
              "      <td>0.0</td>\n",
              "      <td>0.0</td>\n",
              "      <td>0.0</td>\n",
              "      <td>0.0</td>\n",
              "      <td>0.0</td>\n",
              "      <td>0.0</td>\n",
              "      <td>0.0</td>\n",
              "      <td>0.0</td>\n",
              "      <td>0.0</td>\n",
              "      <td>0.0</td>\n",
              "      <td>0.0</td>\n",
              "      <td>0.0</td>\n",
              "      <td>0.0</td>\n",
              "      <td>0.0</td>\n",
              "      <td>0.0</td>\n",
              "      <td>0.0</td>\n",
              "      <td>0.0</td>\n",
              "      <td>0.0</td>\n",
              "      <td>0.0</td>\n",
              "      <td>0.0</td>\n",
              "      <td>0.0</td>\n",
              "      <td>0.0</td>\n",
              "      <td>1.0</td>\n",
              "      <td>0.0</td>\n",
              "    </tr>\n",
              "    <tr>\n",
              "      <th>3</th>\n",
              "      <td>1.0</td>\n",
              "      <td>0.0</td>\n",
              "      <td>0.0</td>\n",
              "      <td>0.0</td>\n",
              "      <td>0.0</td>\n",
              "      <td>0.0</td>\n",
              "      <td>0.0</td>\n",
              "      <td>0.0</td>\n",
              "      <td>0.0</td>\n",
              "      <td>0.0</td>\n",
              "      <td>0.0</td>\n",
              "      <td>0.0</td>\n",
              "      <td>0.0</td>\n",
              "      <td>0.0</td>\n",
              "      <td>0.0</td>\n",
              "      <td>0.0</td>\n",
              "      <td>1.0</td>\n",
              "      <td>0.0</td>\n",
              "      <td>0.0</td>\n",
              "      <td>0.0</td>\n",
              "      <td>0.0</td>\n",
              "      <td>0.0</td>\n",
              "      <td>0.0</td>\n",
              "      <td>0.0</td>\n",
              "      <td>0.0</td>\n",
              "      <td>0.0</td>\n",
              "      <td>0.0</td>\n",
              "      <td>0.0</td>\n",
              "      <td>0.0</td>\n",
              "      <td>0.0</td>\n",
              "      <td>0.0</td>\n",
              "      <td>0.0</td>\n",
              "      <td>0.0</td>\n",
              "      <td>0.0</td>\n",
              "      <td>0.0</td>\n",
              "      <td>0.0</td>\n",
              "      <td>0.0</td>\n",
              "      <td>0.0</td>\n",
              "      <td>0.0</td>\n",
              "      <td>0.0</td>\n",
              "      <td>0.0</td>\n",
              "      <td>1.0</td>\n",
              "      <td>0.0</td>\n",
              "    </tr>\n",
              "    <tr>\n",
              "      <th>4</th>\n",
              "      <td>1.0</td>\n",
              "      <td>0.0</td>\n",
              "      <td>0.0</td>\n",
              "      <td>0.0</td>\n",
              "      <td>0.0</td>\n",
              "      <td>0.0</td>\n",
              "      <td>0.0</td>\n",
              "      <td>0.0</td>\n",
              "      <td>0.0</td>\n",
              "      <td>0.0</td>\n",
              "      <td>0.0</td>\n",
              "      <td>0.0</td>\n",
              "      <td>0.0</td>\n",
              "      <td>0.0</td>\n",
              "      <td>0.0</td>\n",
              "      <td>0.0</td>\n",
              "      <td>1.0</td>\n",
              "      <td>0.0</td>\n",
              "      <td>0.0</td>\n",
              "      <td>0.0</td>\n",
              "      <td>0.0</td>\n",
              "      <td>0.0</td>\n",
              "      <td>0.0</td>\n",
              "      <td>0.0</td>\n",
              "      <td>0.0</td>\n",
              "      <td>0.0</td>\n",
              "      <td>0.0</td>\n",
              "      <td>0.0</td>\n",
              "      <td>0.0</td>\n",
              "      <td>0.0</td>\n",
              "      <td>0.0</td>\n",
              "      <td>0.0</td>\n",
              "      <td>0.0</td>\n",
              "      <td>0.0</td>\n",
              "      <td>0.0</td>\n",
              "      <td>0.0</td>\n",
              "      <td>0.0</td>\n",
              "      <td>0.0</td>\n",
              "      <td>0.0</td>\n",
              "      <td>0.0</td>\n",
              "      <td>0.0</td>\n",
              "      <td>1.0</td>\n",
              "      <td>0.0</td>\n",
              "    </tr>\n",
              "  </tbody>\n",
              "</table>\n",
              "</div>"
            ],
            "text/plain": [
              "   x0_Buick  x0_Cadillac  x0_Chevrolet  ...  x2_Hatchback  x2_Sedan  x2_Wagon\n",
              "0       1.0          0.0           0.0  ...           0.0       1.0       0.0\n",
              "1       1.0          0.0           0.0  ...           0.0       1.0       0.0\n",
              "2       1.0          0.0           0.0  ...           0.0       1.0       0.0\n",
              "3       1.0          0.0           0.0  ...           0.0       1.0       0.0\n",
              "4       1.0          0.0           0.0  ...           0.0       1.0       0.0\n",
              "\n",
              "[5 rows x 43 columns]"
            ]
          },
          "metadata": {},
          "execution_count": 34
        }
      ]
    },
    {
      "cell_type": "code",
      "source": [
        "car_data.columns"
      ],
      "metadata": {
        "colab": {
          "base_uri": "https://localhost:8080/"
        },
        "id": "Jyc-VWZR6ExX",
        "outputId": "94b78db1-f148-45f6-f894-3a31f4ca2114"
      },
      "execution_count": 35,
      "outputs": [
        {
          "output_type": "execute_result",
          "data": {
            "text/plain": [
              "Index(['Price', 'Mileage', 'Make', 'Model', 'Trim', 'Type', 'Cylinder',\n",
              "       'Liter', 'Doors', 'Cruise', 'Sound', 'Leather'],\n",
              "      dtype='object')"
            ]
          },
          "metadata": {},
          "execution_count": 35
        }
      ]
    },
    {
      "cell_type": "code",
      "source": [
        "car_data1 =pd.concat([car_data,dummy_car_data], axis = 1).head()"
      ],
      "metadata": {
        "id": "T66iKChY6LLU"
      },
      "execution_count": 39,
      "outputs": []
    },
    {
      "cell_type": "code",
      "source": [
        "from sklearn.preprocessing import StandardScaler\n",
        "ss = StandardScaler()"
      ],
      "metadata": {
        "id": "lY0NTK0262VH"
      },
      "execution_count": 40,
      "outputs": []
    },
    {
      "cell_type": "code",
      "source": [
        "features4 = car_data1[['Mileage', 'Cylinder', 'Doors', 'Cruise','Sound', 'Leather','x0_Buick', 'x0_Cadillac', 'x0_Chevrolet', 'x0_Pontiac', 'x0_SAAB',\n",
        "       'x0_Saturn', 'x1_9-2X AWD', 'x1_9_3', 'x1_9_3 HO', 'x1_9_5',\n",
        "       'x1_9_5 HO', 'x1_AVEO', 'x1_Bonneville', 'x1_CST-V', 'x1_CTS',\n",
        "       'x1_Cavalier', 'x1_Century', 'x1_Classic', 'x1_Cobalt',\n",
        "       'x1_Corvette', 'x1_Deville', 'x1_G6', 'x1_GTO', 'x1_Grand Am',\n",
        "       'x1_Grand Prix', 'x1_Impala', 'x1_Ion', 'x1_L Series',\n",
        "       'x1_Lacrosse', 'x1_Lesabre', 'x1_Malibu', 'x1_Monte Carlo',\n",
        "       'x1_Park Avenue', 'x1_STS-V6', 'x1_STS-V8', 'x1_Sunfire',\n",
        "       'x1_Vibe', 'x1_XLR-V8', 'x2_Convertible', 'x2_Coupe',\n",
        "       'x2_Hatchback', 'x2_Sedan', 'x2_Wagon']]\n",
        "target4 = car_data1[['Price']]\n",
        "Regressor2.fit(features4, target4)\n",
        "print(\"linear regression co-effs are: {} \".format((Regressor2.coef_)))\n",
        "print(\"linear regression intercept is: {} \".format((Regressor2.intercept_)))"
      ],
      "metadata": {
        "colab": {
          "base_uri": "https://localhost:8080/"
        },
        "id": "GQRgm0Rs67Jg",
        "outputId": "f7b1d5da-14d6-474f-88e4-912034e68ca6"
      },
      "execution_count": 41,
      "outputs": [
        {
          "output_type": "stream",
          "name": "stdout",
          "text": [
            "linear regression co-effs are: [[-1.73339943e-01  5.68434189e-14  0.00000000e+00  0.00000000e+00\n",
            "  -6.46887620e+02  2.16383933e+02  0.00000000e+00  0.00000000e+00\n",
            "   0.00000000e+00  0.00000000e+00  0.00000000e+00  0.00000000e+00\n",
            "   0.00000000e+00  0.00000000e+00  0.00000000e+00  0.00000000e+00\n",
            "   0.00000000e+00  0.00000000e+00  0.00000000e+00  0.00000000e+00\n",
            "   0.00000000e+00  0.00000000e+00  0.00000000e+00  0.00000000e+00\n",
            "   0.00000000e+00  0.00000000e+00  0.00000000e+00  0.00000000e+00\n",
            "   0.00000000e+00  0.00000000e+00  0.00000000e+00  0.00000000e+00\n",
            "   0.00000000e+00  0.00000000e+00  0.00000000e+00  0.00000000e+00\n",
            "   0.00000000e+00  0.00000000e+00  0.00000000e+00  0.00000000e+00\n",
            "   0.00000000e+00  0.00000000e+00  0.00000000e+00  0.00000000e+00\n",
            "   0.00000000e+00  0.00000000e+00  0.00000000e+00  0.00000000e+00\n",
            "   0.00000000e+00]] \n",
            "linear regression intercept is: [19365.04931162] \n"
          ]
        }
      ]
    },
    {
      "cell_type": "code",
      "source": [
        "R_Squared_Score3 = Regressor2.score(features4, target4)\n",
        "print(\"the R-square score is: {}\".format(R_Squared_Score3))\n",
        "if R_Squared_Score3 > 0.8:\n",
        "    print(\"The correlation is strong(R-Sq score >0.8), the equation is a good fit\")\n",
        "else:\n",
        "    print(\"The correlation is weak(R-Sq score <0.8), the equation is not a good fit\") "
      ],
      "metadata": {
        "colab": {
          "base_uri": "https://localhost:8080/"
        },
        "id": "CtO9tHg_7cNP",
        "outputId": "5888a7dd-ad14-40d1-ba48-d2586815c2ff"
      },
      "execution_count": 43,
      "outputs": [
        {
          "output_type": "stream",
          "name": "stdout",
          "text": [
            "the R-square score is: 0.7923571038234674\n",
            "The correlation is weak(R-Sq score <0.8), the equation is not a good fit\n"
          ]
        }
      ]
    },
    {
      "cell_type": "code",
      "source": [
        "features5 = car_data1[['Mileage', 'Cylinder','Sound', 'Leather']] #keeping only important features from last iteration result\n",
        "target5 = car_data1[['Price']]\n",
        "Regressor2.fit(features5, target5)\n",
        "print(\"linear regression co-effs are: {} \".format((Regressor2.coef_)))\n",
        "print(\"linear regression intercept is: {} \".format((Regressor2.intercept_)))"
      ],
      "metadata": {
        "colab": {
          "base_uri": "https://localhost:8080/"
        },
        "id": "hZuKkYqM78of",
        "outputId": "2d621afa-0195-43c6-a1f2-7f26092c13de"
      },
      "execution_count": 46,
      "outputs": [
        {
          "output_type": "stream",
          "name": "stdout",
          "text": [
            "linear regression co-effs are: [[-1.73339943e-01  0.00000000e+00 -6.46887620e+02  2.16383933e+02]] \n",
            "linear regression intercept is: [19365.04931162] \n"
          ]
        }
      ]
    },
    {
      "cell_type": "code",
      "source": [
        "R_Squared_Score4 = Regressor2.score(features5, target5)\n",
        "print(\"the R-square score is: {}\".format(R_Squared_Score4))\n",
        "if R_Squared_Score4 > 0.8:\n",
        "    print(\"The correlation is strong(R-Sq score >0.8), the equation is a good fit\")\n",
        "else:\n",
        "    print(\"The correlation is weak(R-Sq score <0.8), the equation is not a good fit\") "
      ],
      "metadata": {
        "colab": {
          "base_uri": "https://localhost:8080/"
        },
        "id": "FytJXvWB8UhG",
        "outputId": "f40a9bbc-f8eb-4117-847b-e5550eb8a0e1"
      },
      "execution_count": 47,
      "outputs": [
        {
          "output_type": "stream",
          "name": "stdout",
          "text": [
            "the R-square score is: 0.7923571038234664\n",
            "The correlation is weak(R-Sq score <0.8), the equation is not a good fit\n"
          ]
        }
      ]
    },
    {
      "cell_type": "code",
      "source": [
        "features6 = car_data1[['Mileage','Sound', 'Leather']] #Removing least important feature - 'cylinder'\n",
        "target6 = car_data1[['Price']]\n",
        "Regressor2.fit(features6, target6)\n",
        "print(\"linear regression co-effs are: {} \".format((Regressor2.coef_)))\n",
        "print(\"linear regression intercept is: {} \".format((Regressor2.intercept_)))"
      ],
      "metadata": {
        "colab": {
          "base_uri": "https://localhost:8080/"
        },
        "id": "22rqqrrN8pAC",
        "outputId": "cea6062a-b488-451d-ff66-03ad691f0326"
      },
      "execution_count": 48,
      "outputs": [
        {
          "output_type": "stream",
          "name": "stdout",
          "text": [
            "linear regression co-effs are: [[-1.73339943e-01 -6.46887620e+02  2.16383933e+02]] \n",
            "linear regression intercept is: [19365.04931162] \n"
          ]
        }
      ]
    },
    {
      "cell_type": "code",
      "source": [
        "R_Squared_Score5 = Regressor2.score(features6, target6)\n",
        "print(\"the R-square score is: {}\".format(R_Squared_Score5))\n",
        "if R_Squared_Score5 > 0.8:\n",
        "    print(\"The correlation is strong(R-Sq score >0.8), the equation is a good fit\")\n",
        "else:\n",
        "    print(\"The correlation is weak(R-Sq score <0.8), the equation is not a good fit\") "
      ],
      "metadata": {
        "colab": {
          "base_uri": "https://localhost:8080/"
        },
        "id": "XFiHmDcx9FLb",
        "outputId": "79dc9eaa-9832-441d-c465-b5b2640a3d64"
      },
      "execution_count": 49,
      "outputs": [
        {
          "output_type": "stream",
          "name": "stdout",
          "text": [
            "the R-square score is: 0.7923571038234669\n",
            "The correlation is weak(R-Sq score <0.8), the equation is not a good fit\n"
          ]
        }
      ]
    },
    {
      "cell_type": "code",
      "source": [
        "features7 = car_data1[['Mileage','Sound']] #Removing least important feature - 'Leather'\n",
        "target7 = car_data1[['Price']]\n",
        "Regressor2.fit(features7, target7)\n",
        "print(\"linear regression co-effs are: {} \".format((Regressor2.coef_)))\n",
        "print(\"linear regression intercept is: {} \".format((Regressor2.intercept_)))"
      ],
      "metadata": {
        "colab": {
          "base_uri": "https://localhost:8080/"
        },
        "id": "XkoJMOHc9dla",
        "outputId": "d61eacec-1408-4ce0-ef3d-1c08f2bfc9b0"
      },
      "execution_count": 50,
      "outputs": [
        {
          "output_type": "stream",
          "name": "stdout",
          "text": [
            "linear regression co-effs are: [[-1.75684931e-01 -7.01484050e+02]] \n",
            "linear regression intercept is: [19515.65507901] \n"
          ]
        }
      ]
    },
    {
      "cell_type": "code",
      "source": [
        "R_Squared_Score6 = Regressor2.score(features7, target7)\n",
        "print(\"the R-square score is: {}\".format(R_Squared_Score6))\n",
        "if R_Squared_Score6 > 0.8:\n",
        "    print(\"The correlation is strong(R-Sq score >0.8), the equation is a good fit\")\n",
        "else:\n",
        "    print(\"The correlation is weak(R-Sq score <0.8), the equation is not a good fit\") "
      ],
      "metadata": {
        "colab": {
          "base_uri": "https://localhost:8080/"
        },
        "id": "x_xVIC5q9oh5",
        "outputId": "3d737e06-2db7-4dc6-c4a0-08d1c4676e7e"
      },
      "execution_count": 51,
      "outputs": [
        {
          "output_type": "stream",
          "name": "stdout",
          "text": [
            "the R-square score is: 0.7575693844173548\n",
            "The correlation is weak(R-Sq score <0.8), the equation is not a good fit\n"
          ]
        }
      ]
    },
    {
      "cell_type": "markdown",
      "source": [
        "The R2 square score reduces in last iteration. Thus the best\n",
        "feature combinations is ['Mileage','Sound','Leather']"
      ],
      "metadata": {
        "id": "5hWHokT493L4"
      }
    }
  ]
}