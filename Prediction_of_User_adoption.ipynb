{
  "nbformat": 4,
  "nbformat_minor": 0,
  "metadata": {
    "colab": {
      "name": "Prediction_of_User_adoption.ipynb",
      "provenance": [],
      "collapsed_sections": []
    },
    "kernelspec": {
      "name": "python3",
      "display_name": "Python 3"
    },
    "language_info": {
      "name": "python"
    }
  },
  "cells": [
    {
      "cell_type": "code",
      "execution_count": 2,
      "metadata": {
        "id": "ueHqlsKJu70C"
      },
      "outputs": [],
      "source": [
        "# Import necessary packages \n",
        "import pandas as pd\n",
        "import numpy as np\n",
        "import matplotlib.pyplot as plt\n",
        "import seaborn as sns\n",
        "% matplotlib inline\n"
      ]
    },
    {
      "cell_type": "markdown",
      "source": [
        "Read the takehome user engagement data and checking for any null or missing values"
      ],
      "metadata": {
        "id": "8cyqBZx3x8Ql"
      }
    },
    {
      "cell_type": "code",
      "source": [
        "User_engagemnt = pd.read_csv(\"takehome_user_engagement.csv\")\n",
        "print(User_engagemnt.head())"
      ],
      "metadata": {
        "colab": {
          "base_uri": "https://localhost:8080/"
        },
        "id": "-kHtr5Dtxg8Y",
        "outputId": "d2dbe346-d5a8-4afe-ca5e-74aa4be4e395"
      },
      "execution_count": 3,
      "outputs": [
        {
          "output_type": "stream",
          "name": "stdout",
          "text": [
            "            time_stamp  user_id  visited\n",
            "0  2014-04-22 03:53:30      1.0      1.0\n",
            "1  2013-11-15 03:45:04      2.0      1.0\n",
            "2  2013-11-29 03:45:04      2.0      1.0\n",
            "3  2013-12-09 03:45:04      2.0      1.0\n",
            "4  2013-12-25 03:45:04      2.0      1.0\n"
          ]
        }
      ]
    },
    {
      "cell_type": "code",
      "source": [
        "User_engagemnt.isnull().sum()"
      ],
      "metadata": {
        "colab": {
          "base_uri": "https://localhost:8080/"
        },
        "id": "Sd6SxOLhyosw",
        "outputId": "6ec92db6-1927-4aac-8933-c791fa20767c"
      },
      "execution_count": 4,
      "outputs": [
        {
          "output_type": "execute_result",
          "data": {
            "text/plain": [
              "time_stamp    0\n",
              "user_id       1\n",
              "visited       1\n",
              "dtype: int64"
            ]
          },
          "metadata": {},
          "execution_count": 4
        }
      ]
    },
    {
      "cell_type": "markdown",
      "source": [
        "By observing there are no missing values in user engagement data"
      ],
      "metadata": {
        "id": "t5wrrlvEyxvO"
      }
    },
    {
      "cell_type": "code",
      "source": [
        "# Remove deprecation warnings\n",
        "import warnings\n",
        "warnings.filterwarnings('ignore')\n",
        "#encoding option is used to avoid uft encoding error\n",
        "Users = pd.read_csv(\"takehome_users.csv\",encoding='ISO-8859-1')"
      ],
      "metadata": {
        "id": "-BDr1xi7zJFj"
      },
      "execution_count": 5,
      "outputs": []
    },
    {
      "cell_type": "code",
      "source": [
        "Users.describe()"
      ],
      "metadata": {
        "colab": {
          "base_uri": "https://localhost:8080/",
          "height": 320
        },
        "id": "Nsffoe1I2Q7Z",
        "outputId": "77e31dbb-34d3-4890-c2e9-39511422f80f"
      },
      "execution_count": 6,
      "outputs": [
        {
          "output_type": "execute_result",
          "data": {
            "text/html": [
              "<div>\n",
              "<style scoped>\n",
              "    .dataframe tbody tr th:only-of-type {\n",
              "        vertical-align: middle;\n",
              "    }\n",
              "\n",
              "    .dataframe tbody tr th {\n",
              "        vertical-align: top;\n",
              "    }\n",
              "\n",
              "    .dataframe thead th {\n",
              "        text-align: right;\n",
              "    }\n",
              "</style>\n",
              "<table border=\"1\" class=\"dataframe\">\n",
              "  <thead>\n",
              "    <tr style=\"text-align: right;\">\n",
              "      <th></th>\n",
              "      <th>object_id</th>\n",
              "      <th>last_session_creation_time</th>\n",
              "      <th>opted_in_to_mailing_list</th>\n",
              "      <th>enabled_for_marketing_drip</th>\n",
              "      <th>org_id</th>\n",
              "      <th>invited_by_user_id</th>\n",
              "    </tr>\n",
              "  </thead>\n",
              "  <tbody>\n",
              "    <tr>\n",
              "      <th>count</th>\n",
              "      <td>12000.00000</td>\n",
              "      <td>8.823000e+03</td>\n",
              "      <td>12000.000000</td>\n",
              "      <td>12000.000000</td>\n",
              "      <td>12000.000000</td>\n",
              "      <td>6417.000000</td>\n",
              "    </tr>\n",
              "    <tr>\n",
              "      <th>mean</th>\n",
              "      <td>6000.50000</td>\n",
              "      <td>1.379279e+09</td>\n",
              "      <td>0.249500</td>\n",
              "      <td>0.149333</td>\n",
              "      <td>141.884583</td>\n",
              "      <td>5962.957145</td>\n",
              "    </tr>\n",
              "    <tr>\n",
              "      <th>std</th>\n",
              "      <td>3464.24595</td>\n",
              "      <td>1.953116e+07</td>\n",
              "      <td>0.432742</td>\n",
              "      <td>0.356432</td>\n",
              "      <td>124.056723</td>\n",
              "      <td>3383.761968</td>\n",
              "    </tr>\n",
              "    <tr>\n",
              "      <th>min</th>\n",
              "      <td>1.00000</td>\n",
              "      <td>1.338452e+09</td>\n",
              "      <td>0.000000</td>\n",
              "      <td>0.000000</td>\n",
              "      <td>0.000000</td>\n",
              "      <td>3.000000</td>\n",
              "    </tr>\n",
              "    <tr>\n",
              "      <th>25%</th>\n",
              "      <td>3000.75000</td>\n",
              "      <td>1.363195e+09</td>\n",
              "      <td>0.000000</td>\n",
              "      <td>0.000000</td>\n",
              "      <td>29.000000</td>\n",
              "      <td>3058.000000</td>\n",
              "    </tr>\n",
              "    <tr>\n",
              "      <th>50%</th>\n",
              "      <td>6000.50000</td>\n",
              "      <td>1.382888e+09</td>\n",
              "      <td>0.000000</td>\n",
              "      <td>0.000000</td>\n",
              "      <td>108.000000</td>\n",
              "      <td>5954.000000</td>\n",
              "    </tr>\n",
              "    <tr>\n",
              "      <th>75%</th>\n",
              "      <td>9000.25000</td>\n",
              "      <td>1.398443e+09</td>\n",
              "      <td>0.000000</td>\n",
              "      <td>0.000000</td>\n",
              "      <td>238.250000</td>\n",
              "      <td>8817.000000</td>\n",
              "    </tr>\n",
              "    <tr>\n",
              "      <th>max</th>\n",
              "      <td>12000.00000</td>\n",
              "      <td>1.402067e+09</td>\n",
              "      <td>1.000000</td>\n",
              "      <td>1.000000</td>\n",
              "      <td>416.000000</td>\n",
              "      <td>11999.000000</td>\n",
              "    </tr>\n",
              "  </tbody>\n",
              "</table>\n",
              "</div>"
            ],
            "text/plain": [
              "         object_id  ...  invited_by_user_id\n",
              "count  12000.00000  ...         6417.000000\n",
              "mean    6000.50000  ...         5962.957145\n",
              "std     3464.24595  ...         3383.761968\n",
              "min        1.00000  ...            3.000000\n",
              "25%     3000.75000  ...         3058.000000\n",
              "50%     6000.50000  ...         5954.000000\n",
              "75%     9000.25000  ...         8817.000000\n",
              "max    12000.00000  ...        11999.000000\n",
              "\n",
              "[8 rows x 6 columns]"
            ]
          },
          "metadata": {},
          "execution_count": 6
        }
      ]
    },
    {
      "cell_type": "code",
      "source": [
        "Users.head()\n",
        "Users.drop(columns=['last_session_creation_time'],inplace = True)\n",
        "Users.count()"
      ],
      "metadata": {
        "colab": {
          "base_uri": "https://localhost:8080/"
        },
        "id": "dYCVvDNA2k3i",
        "outputId": "8a14be34-3f87-44a1-c514-f719c9f431ba"
      },
      "execution_count": 7,
      "outputs": [
        {
          "output_type": "execute_result",
          "data": {
            "text/plain": [
              "object_id                     12000\n",
              "creation_time                 12000\n",
              "name                          12000\n",
              "email                         12000\n",
              "creation_source               12000\n",
              "opted_in_to_mailing_list      12000\n",
              "enabled_for_marketing_drip    12000\n",
              "org_id                        12000\n",
              "invited_by_user_id             6417\n",
              "dtype: int64"
            ]
          },
          "metadata": {},
          "execution_count": 7
        }
      ]
    },
    {
      "cell_type": "markdown",
      "source": [
        "By observation Last_session_creation_time is not in the datatime format and lot many values are missing."
      ],
      "metadata": {
        "id": "_farlYBs9ZCP"
      }
    },
    {
      "cell_type": "code",
      "source": [
        "print('There are {} unique users of the 207,917 entries in engagement data'.format(len(Users['email'].unique())))"
      ],
      "metadata": {
        "colab": {
          "base_uri": "https://localhost:8080/"
        },
        "id": "7PQaFyEiER86",
        "outputId": "7c912437-b42d-4953-c32c-a183066315d7"
      },
      "execution_count": 8,
      "outputs": [
        {
          "output_type": "stream",
          "name": "stdout",
          "text": [
            "There are 11980 unique users of the 207,917 entries in engagement data\n"
          ]
        }
      ]
    },
    {
      "cell_type": "markdown",
      "source": [
        "In this analysis, I have analyzed 12,000 users and out of the total users, 1,656 users became adopted users, which is 13.8% of the total users. The rest, non-adopted users, can be separated into two groups, never visited and visited but not adopted, which are 26.5% and 59.7% respectively. For never visited users, we should attract them to visit for the first time and for visited but not adopted users, we should improve their experience to increase adoption.\n",
        "\n"
      ],
      "metadata": {
        "id": "HcP0LmdYXzHi"
      }
    },
    {
      "cell_type": "markdown",
      "source": [
        "Since the prediction should be made at the time when the account is created, any factors that are acquired after the users started to using it should be avoided. Otherwise, the factors would leak information to adoption prediction. By analyzing and preprocessing the data, I have feature engineered 5 new variables to predict adoption, which are email_domain (The domain from the email address), adopted_refer (whether the user is referred by adopted user), same_org (whether the user and the person referred are in the same organization), org_size (the size of the organization) and org_adopt_pct (percentage of the people in the organization are adopted users).\n",
        "\n",
        "As we can see from the graph above, this data set is highly imbalanced, which means we have much more non-adopted users than adopted users. If the imbalanced data is directly used, the model would tend to predict non-adopted users to achieved higher accuracy but lose the ability to identify potential adopted users. Therefore, I choose the under sampling method to combat the imbalance issue and leverage the state of art machine learning technology (xgboost) to build the prediction model. The evaluation metric is set to be AUC rather than accuracy due to the goal and imbalanced data set."
      ],
      "metadata": {
        "id": "CwCuYWYPYUaT"
      }
    },
    {
      "cell_type": "markdown",
      "source": [
        "From the analysis, most of the adopted users are from a relatively small organization with high adoption rate in the organization and referred by adopted user; meanwhile, users from certain email domains have lower adoption rate than others. It could be caused by the email domain is blocking asana ads or represents certain demographics. Overall, the adoption rate in the organization plays the most important role in determining whether the new users will adopt in the future.\n",
        "\n",
        "Due to the limitation of this analysis, I did not dive into the the factors trigger initial visit and the factors keep users engaged. What is more, the adoption prediction is made when the users create the account; however, the adoption rate changes when more factors become available such as days until first visit, visit times, days used, etc. Further analysis is highly recommended."
      ],
      "metadata": {
        "id": "gK0PkCbpYXBZ"
      }
    },
    {
      "cell_type": "markdown",
      "source": [
        ""
      ],
      "metadata": {
        "id": "x7rfGFo_d0nG"
      }
    },
    {
      "cell_type": "code",
      "source": [
        "Users1 = Users['email'].str.split('@', expand=True)\n",
        "Users1.head()\n",
        "Users1.rename(columns={1:\"company_site\"},inplace=True)\n"
      ],
      "metadata": {
        "id": "y9LWls4Bd7P8"
      },
      "execution_count": 9,
      "outputs": []
    }
  ]
}